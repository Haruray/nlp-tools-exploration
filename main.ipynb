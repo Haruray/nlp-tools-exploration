{
 "cells": [
  {
   "cell_type": "markdown",
   "metadata": {},
   "source": [
    "# Tugas 1 : Basic NLP Tools\n",
    "Oleh : \n",
    "- Safiq Faray (13519145)"
   ]
  },
  {
   "cell_type": "code",
   "execution_count": 104,
   "metadata": {},
   "outputs": [],
   "source": [
    "import spacy\n",
    "nlp = spacy.load(\"en_core_web_sm\")\n",
    "text = nlp(\"Hello bro, i live in Indonesia and i love lasagna. Also, i love burgers and pizzas. Man, i wish i could get some pizza right now. I worked at itb\")"
   ]
  },
  {
   "cell_type": "markdown",
   "metadata": {},
   "source": [
    "## Sentence Splitter"
   ]
  },
  {
   "cell_type": "code",
   "execution_count": 105,
   "metadata": {},
   "outputs": [
    {
     "data": {
      "text/plain": [
       "[Hello bro, i live in Indonesia and i love lasagna.,\n",
       " Also, i love burgers and pizzas.,\n",
       " Man, i wish i could get some pizza right now.,\n",
       " I worked at itb]"
      ]
     },
     "execution_count": 105,
     "metadata": {},
     "output_type": "execute_result"
    }
   ],
   "source": [
    "def sentence_split(text):\n",
    "    return list(text.sents)\n",
    "sentence_split(text)"
   ]
  },
  {
   "cell_type": "markdown",
   "metadata": {},
   "source": [
    "## Tokenization"
   ]
  },
  {
   "cell_type": "code",
   "execution_count": 106,
   "metadata": {},
   "outputs": [
    {
     "data": {
      "text/plain": [
       "['Hello',\n",
       " 'bro',\n",
       " ',',\n",
       " 'i',\n",
       " 'live',\n",
       " 'in',\n",
       " 'Indonesia',\n",
       " 'and',\n",
       " 'i',\n",
       " 'love',\n",
       " 'lasagna',\n",
       " '.',\n",
       " 'Also',\n",
       " ',',\n",
       " 'i',\n",
       " 'love',\n",
       " 'burgers',\n",
       " 'and',\n",
       " 'pizzas',\n",
       " '.',\n",
       " 'Man',\n",
       " ',',\n",
       " 'i',\n",
       " 'wish',\n",
       " 'i',\n",
       " 'could',\n",
       " 'get',\n",
       " 'some',\n",
       " 'pizza',\n",
       " 'right',\n",
       " 'now',\n",
       " '.',\n",
       " 'I',\n",
       " 'worked',\n",
       " 'at',\n",
       " 'itb']"
      ]
     },
     "execution_count": 106,
     "metadata": {},
     "output_type": "execute_result"
    }
   ],
   "source": [
    "def tokenization(text):\n",
    "    return [token.text for token in text]\n",
    "tokenization(text)"
   ]
  },
  {
   "cell_type": "markdown",
   "metadata": {},
   "source": [
    "## Stemming"
   ]
  },
  {
   "cell_type": "code",
   "execution_count": 107,
   "metadata": {},
   "outputs": [
    {
     "data": {
      "text/plain": [
       "'writ'"
      ]
     },
     "execution_count": 107,
     "metadata": {},
     "output_type": "execute_result"
    }
   ],
   "source": [
    "def stemming(token):\n",
    "    prefix = token.prefix_\n",
    "    suffix = token.suffix_\n",
    "    original = token.text\n",
    "    #stem prefix\n",
    "    stemmed = original[len(prefix)-1:len(original)]\n",
    "    #stem suffix\n",
    "    stemmed = stemmed[0:(len(stemmed)-1) - (len(suffix)-1)]\n",
    "    return stemmed\n",
    "tes = nlp(\"writing\")\n",
    "stemming(tes[0])"
   ]
  },
  {
   "cell_type": "markdown",
   "metadata": {},
   "source": [
    "## Lemmatization"
   ]
  },
  {
   "cell_type": "code",
   "execution_count": 108,
   "metadata": {},
   "outputs": [
    {
     "data": {
      "text/plain": [
       "'write'"
      ]
     },
     "execution_count": 108,
     "metadata": {},
     "output_type": "execute_result"
    }
   ],
   "source": [
    "def lemmatization(token):\n",
    "    return token.lemma_\n",
    "lemmatization(tes[0])"
   ]
  },
  {
   "cell_type": "markdown",
   "metadata": {},
   "source": [
    "## Entity Masking"
   ]
  },
  {
   "cell_type": "code",
   "execution_count": 109,
   "metadata": {},
   "outputs": [
    {
     "data": {
      "text/plain": [
       "'Hello bro , i live in MASK and i love lasagna . Also , i love burgers and pizzas . Man , i wish i could get some pizza right now . I worked at MASK'"
      ]
     },
     "execution_count": 109,
     "metadata": {},
     "output_type": "execute_result"
    }
   ],
   "source": [
    "def mask_entity(text):\n",
    "    final_text = ' '.join(token.text if token.ent_type_ == \"\" else \"MASK\" for token in text)\n",
    "    return final_text\n",
    "mask_entity(text)"
   ]
  },
  {
   "cell_type": "markdown",
   "metadata": {},
   "source": [
    "## Entity Masking Custom Word"
   ]
  },
  {
   "cell_type": "code",
   "execution_count": 111,
   "metadata": {},
   "outputs": [
    {
     "data": {
      "text/plain": [
       "'Hello MASK , i live in MASK and i love lasagna . Also , i love burgers and pizzas . Man , i wish i could get some pizza right now . I worked at MASK'"
      ]
     },
     "execution_count": 111,
     "metadata": {},
     "output_type": "execute_result"
    }
   ],
   "source": [
    "from enum import Enum\n",
    "from spacy.tokens import Span\n",
    "EntityType = Enum('EntityType',['Person', 'Norp', 'Fac', 'Org', 'Gpe', 'Loc', 'Product', 'Event', 'Work_of_art', 'Law', 'Language','Date', 'Time', 'Percent', 'Money', 'Quantity', 'Ordinal', 'Cardinal'])\n",
    "\n",
    "def get_token_index(text, word):\n",
    "    idx_tokens = []\n",
    "    idx_begin = 0\n",
    "    for token in text:\n",
    "        if token.text == word:\n",
    "            idx_end = idx_begin+1\n",
    "            idx_tokens.append([idx_begin, idx_end])\n",
    "        idx_begin+=1\n",
    "    return idx_tokens\n",
    "\n",
    "def filter_unique_entities(new_ents, original_ents):\n",
    "    unique_ents = []\n",
    "    for ent in new_ents:\n",
    "        if (ent not in original_ents):\n",
    "            unique_ents.append(ent)\n",
    "    return unique_ents\n",
    "\n",
    "def create_new_entity(text, entity_word, entity_type: EntityType):\n",
    "    idx_tokens = get_token_index(text, entity_word)\n",
    "    if (len(idx_tokens) == 0):\n",
    "        raise Exception('Custom word to be defined as entity not found in text')\n",
    "    new_entities = []\n",
    "    org_ents = list(text.ents)\n",
    "    for it in idx_tokens:\n",
    "        new_entity = Span(text, it[0], it[1], label=entity_type.name.upper())\n",
    "        new_entities.append(new_entity)\n",
    "    new_entities = filter_unique_entities(new_entities, org_ents)\n",
    "    text.ents = org_ents + new_entities\n",
    "\n",
    "def mask_entity_custom(text, entity_word, entity_type: EntityType):\n",
    "    for ent in entity_word:\n",
    "        create_new_entity(text, ent, entity_type)\n",
    "    return mask_entity(text)\n",
    "\n",
    "mask_entity_custom(text, [\"bro\"], EntityType.Law)\n"
   ]
  }
 ],
 "metadata": {
  "kernelspec": {
   "display_name": ".env",
   "language": "python",
   "name": "python3"
  },
  "language_info": {
   "codemirror_mode": {
    "name": "ipython",
    "version": 3
   },
   "file_extension": ".py",
   "mimetype": "text/x-python",
   "name": "python",
   "nbconvert_exporter": "python",
   "pygments_lexer": "ipython3",
   "version": "3.8.0"
  },
  "orig_nbformat": 4
 },
 "nbformat": 4,
 "nbformat_minor": 2
}
