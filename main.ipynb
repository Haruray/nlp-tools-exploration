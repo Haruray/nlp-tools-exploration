{
 "cells": [
  {
   "cell_type": "markdown",
   "metadata": {},
   "source": [
    "# Tugas 1 : Basic NLP Tools\n",
    "Oleh : \n",
    "- Safiq Faray (13519145)"
   ]
  },
  {
   "cell_type": "code",
   "execution_count": 1,
   "metadata": {},
   "outputs": [],
   "source": [
    "import spacy\n",
    "nlp = spacy.load(\"en_core_web_sm\")\n",
    "text = nlp(\"Hello, i live in Indonesia and i love lasagna. Also, i love burgers and pizzas. Man, i wish i could some pizza right now.\")"
   ]
  },
  {
   "cell_type": "markdown",
   "metadata": {},
   "source": [
    "## Sentence Splitter"
   ]
  },
  {
   "cell_type": "code",
   "execution_count": 2,
   "metadata": {},
   "outputs": [
    {
     "data": {
      "text/plain": [
       "[Hello, i live in Indonesia and i love lasagna.,\n",
       " Also, i love burgers and pizzas.,\n",
       " Man, i wish i could some pizza right now.]"
      ]
     },
     "execution_count": 2,
     "metadata": {},
     "output_type": "execute_result"
    }
   ],
   "source": [
    "def sentence_split(text):\n",
    "    return list(text.sents)\n",
    "sentence_split(text)"
   ]
  },
  {
   "cell_type": "markdown",
   "metadata": {},
   "source": [
    "## Tokenization"
   ]
  },
  {
   "cell_type": "code",
   "execution_count": 3,
   "metadata": {},
   "outputs": [
    {
     "data": {
      "text/plain": [
       "['Hello',\n",
       " ',',\n",
       " 'i',\n",
       " 'live',\n",
       " 'in',\n",
       " 'Indonesia',\n",
       " 'and',\n",
       " 'i',\n",
       " 'love',\n",
       " 'lasagna',\n",
       " '.',\n",
       " 'Also',\n",
       " ',',\n",
       " 'i',\n",
       " 'love',\n",
       " 'burgers',\n",
       " 'and',\n",
       " 'pizzas',\n",
       " '.',\n",
       " 'Man',\n",
       " ',',\n",
       " 'i',\n",
       " 'wish',\n",
       " 'i',\n",
       " 'could',\n",
       " 'some',\n",
       " 'pizza',\n",
       " 'right',\n",
       " 'now',\n",
       " '.']"
      ]
     },
     "execution_count": 3,
     "metadata": {},
     "output_type": "execute_result"
    }
   ],
   "source": [
    "def tokenization(text):\n",
    "    return [token.text for token in text]\n",
    "tokenization(text)"
   ]
  },
  {
   "cell_type": "markdown",
   "metadata": {},
   "source": [
    "## Stemming"
   ]
  },
  {
   "cell_type": "code",
   "execution_count": 12,
   "metadata": {},
   "outputs": [
    {
     "data": {
      "text/plain": [
       "['w', 'r', 'i', 't', 'i', 'n', 'g']"
      ]
     },
     "execution_count": 12,
     "metadata": {},
     "output_type": "execute_result"
    }
   ],
   "source": [
    "def stemming(word):\n",
    "    #lemma of word\n",
    "    lemma = word.lemma_\n",
    "    #get characters in word that are the same with lemma\n",
    "    stemmed = ''\n",
    "    return stemmed\n",
    "tes = nlp(\"writing\")\n",
    "stemming(tes[0])"
   ]
  }
 ],
 "metadata": {
  "kernelspec": {
   "display_name": ".env",
   "language": "python",
   "name": "python3"
  },
  "language_info": {
   "codemirror_mode": {
    "name": "ipython",
    "version": 3
   },
   "file_extension": ".py",
   "mimetype": "text/x-python",
   "name": "python",
   "nbconvert_exporter": "python",
   "pygments_lexer": "ipython3",
   "version": "3.8.0"
  },
  "orig_nbformat": 4
 },
 "nbformat": 4,
 "nbformat_minor": 2
}
